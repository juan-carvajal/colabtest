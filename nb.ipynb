{
  "cells": [
    {
      "cell_type": "code",
      "execution_count": null,
      "id": "mekK1h8Krcqz",
      "metadata": {
        "colab": {
          "base_uri": "https://localhost:8080/"
        },
        "id": "mekK1h8Krcqz",
        "outputId": "2e2982d3-4ea8-48df-ec25-94d0dea6002b"
      },
      "outputs": [
        {
          "name": "stdout",
          "output_type": "stream",
          "text": [
            "Not running in Colab\n"
          ]
        }
      ],
      "source": [
        "def is_colab():\n",
        "    \"\"\"Check if the code is running in Google Colab.\"\"\"\n",
        "    try:\n",
        "        import google.colab\n",
        "        return True\n",
        "    except ImportError:\n",
        "        return False\n",
        "\n",
        "# Use the function to conditionally run magic commands\n",
        "if is_colab():\n",
        "    # Run Colab-specific magic commands\n",
        "    print(\"Running in Colab, executing magic commands.\")\n",
        "    !rm -rf colabtest\n",
        "    !git clone https://github.com/juan-carvajal/colabtest.git\n",
        "    !cp -R colabtest/* .\n",
        "    # Add any other Colab-specific setup\n",
        "else:\n",
        "    # Alternative setup for non-Colab environments\n",
        "    print(\"Not running in Colab, nothing else is needed.\")"
      ]
    },
    {
      "cell_type": "code",
      "execution_count": 6,
      "id": "k_VNUu_UoK18",
      "metadata": {
        "colab": {
          "base_uri": "https://localhost:8080/"
        },
        "id": "k_VNUu_UoK18",
        "outputId": "4d427482-ef7a-47a7-ef4c-77b397470b97"
      },
      "outputs": [
        {
          "name": "stdout",
          "output_type": "stream",
          "text": [
            "Hola clau\n"
          ]
        }
      ],
      "source": [
        "with open('test.txt', 'r') as f:\n",
        "  print(f.read())"
      ]
    }
  ],
  "metadata": {
    "colab": {
      "provenance": []
    },
    "kernelspec": {
      "display_name": ".venv",
      "language": "python",
      "name": "python3"
    },
    "language_info": {
      "codemirror_mode": {
        "name": "ipython",
        "version": 3
      },
      "file_extension": ".py",
      "mimetype": "text/x-python",
      "name": "python",
      "nbconvert_exporter": "python",
      "pygments_lexer": "ipython3",
      "version": "3.12.3"
    }
  },
  "nbformat": 4,
  "nbformat_minor": 5
}
