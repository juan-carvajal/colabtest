{
  "cells": [
    {
      "cell_type": "code",
      "execution_count": 4,
      "id": "2212d3e4",
      "metadata": {
        "id": "2212d3e4",
        "outputId": "58eac55c-f1ef-4701-ff43-d69b7e309181",
        "colab": {
          "base_uri": "https://localhost:8080/"
        }
      },
      "outputs": [
        {
          "output_type": "stream",
          "name": "stdout",
          "text": [
            "hello world\n"
          ]
        }
      ],
      "source": [
        "print(\"hello world\")"
      ]
    },
    {
      "cell_type": "code",
      "source": [
        "!rm -rf colabtest\n",
        "!git clone https://github.com/juan-carvajal/colabtest.git\n",
        "!cp -R colabtest/* ."
      ],
      "metadata": {
        "id": "EUOwfwhsoB9Y",
        "outputId": "64db4b85-c26f-4bc0-ca9b-1bf5f2c3a265",
        "colab": {
          "base_uri": "https://localhost:8080/"
        }
      },
      "id": "EUOwfwhsoB9Y",
      "execution_count": 15,
      "outputs": [
        {
          "output_type": "stream",
          "name": "stdout",
          "text": [
            "Cloning into 'colabtest'...\n",
            "remote: Enumerating objects: 15, done.\u001b[K\n",
            "remote: Counting objects:   6% (1/15)\u001b[K\rremote: Counting objects:  13% (2/15)\u001b[K\rremote: Counting objects:  20% (3/15)\u001b[K\rremote: Counting objects:  26% (4/15)\u001b[K\rremote: Counting objects:  33% (5/15)\u001b[K\rremote: Counting objects:  40% (6/15)\u001b[K\rremote: Counting objects:  46% (7/15)\u001b[K\rremote: Counting objects:  53% (8/15)\u001b[K\rremote: Counting objects:  60% (9/15)\u001b[K\rremote: Counting objects:  66% (10/15)\u001b[K\rremote: Counting objects:  73% (11/15)\u001b[K\rremote: Counting objects:  80% (12/15)\u001b[K\rremote: Counting objects:  86% (13/15)\u001b[K\rremote: Counting objects:  93% (14/15)\u001b[K\rremote: Counting objects: 100% (15/15)\u001b[K\rremote: Counting objects: 100% (15/15), done.\u001b[K\n",
            "remote: Compressing objects:  10% (1/10)\u001b[K\rremote: Compressing objects:  20% (2/10)\u001b[K\rremote: Compressing objects:  30% (3/10)\u001b[K\rremote: Compressing objects:  40% (4/10)\u001b[K\rremote: Compressing objects:  50% (5/10)\u001b[K\rremote: Compressing objects:  60% (6/10)\u001b[K\rremote: Compressing objects:  70% (7/10)\u001b[K\rremote: Compressing objects:  80% (8/10)\u001b[K\rremote: Compressing objects:  90% (9/10)\u001b[K\rremote: Compressing objects: 100% (10/10)\u001b[K\rremote: Compressing objects: 100% (10/10), done.\u001b[K\n",
            "remote: Total 15 (delta 1), reused 8 (delta 0), pack-reused 0 (from 0)\u001b[K\n",
            "Receiving objects:   6% (1/15)\rReceiving objects:  13% (2/15)\rReceiving objects:  20% (3/15)\rReceiving objects:  26% (4/15)\rReceiving objects:  33% (5/15)\rReceiving objects:  40% (6/15)\rReceiving objects:  46% (7/15)\rReceiving objects:  53% (8/15)\rReceiving objects:  60% (9/15)\rReceiving objects:  66% (10/15)\rReceiving objects:  73% (11/15)\rReceiving objects:  80% (12/15)\rReceiving objects:  86% (13/15)\rReceiving objects:  93% (14/15)\rReceiving objects: 100% (15/15)\rReceiving objects: 100% (15/15), done.\n",
            "Resolving deltas:   0% (0/1)\rResolving deltas: 100% (1/1)\rResolving deltas: 100% (1/1), done.\n"
          ]
        }
      ]
    },
    {
      "cell_type": "code",
      "source": [
        "with open('test.txt', 'r') as f:\n",
        "  print(f.read())"
      ],
      "metadata": {
        "id": "k_VNUu_UoK18",
        "outputId": "6a2dda0a-f3dd-4d62-8f45-ad4d38a6e933",
        "colab": {
          "base_uri": "https://localhost:8080/"
        }
      },
      "id": "k_VNUu_UoK18",
      "execution_count": 17,
      "outputs": [
        {
          "output_type": "stream",
          "name": "stdout",
          "text": [
            "Hola clau\n"
          ]
        }
      ]
    }
  ],
  "metadata": {
    "kernelspec": {
      "display_name": ".venv",
      "language": "python",
      "name": "python3"
    },
    "language_info": {
      "codemirror_mode": {
        "name": "ipython",
        "version": 3
      },
      "file_extension": ".py",
      "mimetype": "text/x-python",
      "name": "python",
      "nbconvert_exporter": "python",
      "pygments_lexer": "ipython3",
      "version": "3.12.3"
    },
    "colab": {
      "provenance": []
    }
  },
  "nbformat": 4,
  "nbformat_minor": 5
}