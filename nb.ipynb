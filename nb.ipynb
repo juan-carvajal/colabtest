{
  "cells": [
    {
      "cell_type": "code",
      "execution_count": null,
      "id": "2212d3e4",
      "metadata": {
        "id": "2212d3e4",
        "outputId": "a9a48b37-a9c4-4aee-b3bc-1a5d9baaf908"
      },
      "outputs": [
        {
          "name": "stdout",
          "output_type": "stream",
          "text": [
            "hello world\n"
          ]
        }
      ],
      "source": [
        "print(\"hello world\")"
      ]
    },
    {
      "cell_type": "code",
      "source": [
        "!git clone https://github.com/juan-carvajal/colabtest.git"
      ],
      "metadata": {
        "id": "EUOwfwhsoB9Y",
        "outputId": "85fb978c-6530-456f-a8a4-f15e920823d3",
        "colab": {
          "base_uri": "https://localhost:8080/"
        }
      },
      "id": "EUOwfwhsoB9Y",
      "execution_count": 2,
      "outputs": [
        {
          "output_type": "stream",
          "name": "stdout",
          "text": [
            "Cloning into 'colabtest'...\n",
            "remote: Enumerating objects: 12, done.\u001b[K\n",
            "remote: Counting objects: 100% (12/12), done.\u001b[K\n",
            "remote: Compressing objects: 100% (7/7), done.\u001b[K\n",
            "remote: Total 12 (delta 1), reused 8 (delta 0), pack-reused 0 (from 0)\u001b[K\n",
            "Receiving objects: 100% (12/12), done.\n",
            "Resolving deltas: 100% (1/1), done.\n"
          ]
        }
      ]
    },
    {
      "cell_type": "code",
      "source": [
        "with open('/content/colabtest/test.txt', 'r') as f:\n",
        "  print(f.read())"
      ],
      "metadata": {
        "id": "k_VNUu_UoK18",
        "outputId": "600209e5-4949-442d-8c33-0aa5225570dd",
        "colab": {
          "base_uri": "https://localhost:8080/"
        }
      },
      "id": "k_VNUu_UoK18",
      "execution_count": 3,
      "outputs": [
        {
          "output_type": "stream",
          "name": "stdout",
          "text": [
            "Hola clau\n"
          ]
        }
      ]
    }
  ],
  "metadata": {
    "kernelspec": {
      "display_name": ".venv",
      "language": "python",
      "name": "python3"
    },
    "language_info": {
      "codemirror_mode": {
        "name": "ipython",
        "version": 3
      },
      "file_extension": ".py",
      "mimetype": "text/x-python",
      "name": "python",
      "nbconvert_exporter": "python",
      "pygments_lexer": "ipython3",
      "version": "3.12.3"
    },
    "colab": {
      "provenance": []
    }
  },
  "nbformat": 4,
  "nbformat_minor": 5
}